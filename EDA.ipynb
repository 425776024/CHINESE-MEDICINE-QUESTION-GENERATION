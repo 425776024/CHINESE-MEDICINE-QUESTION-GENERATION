{
 "cells": [
  {
   "cell_type": "code",
   "execution_count": 2,
   "metadata": {},
   "outputs": [],
   "source": [
    "import re\n",
    "import json\n",
    "import pandas as pd\n",
    "import seaborn as sns\n",
    "import matplotlib.pyplot as plt"
   ]
  },
  {
   "cell_type": "markdown",
   "metadata": {},
   "source": [
    "# 加载数据"
   ]
  },
  {
   "cell_type": "code",
   "execution_count": 3,
   "metadata": {},
   "outputs": [],
   "source": [
    "train = json.load(open('data/round1_train_0907.json'))\n",
    "test = json.load(open('data/round1_test_0907.json'))"
   ]
  },
  {
   "cell_type": "code",
   "execution_count": 4,
   "metadata": {},
   "outputs": [],
   "source": [
    "def json2df(dic):\n",
    "    D = {'passage': list(), 'question': list(), 'answer': list()}\n",
    "    for d in dic:\n",
    "        for qa in d['annotations']:\n",
    "            D['passage'].append(d['text'])\n",
    "            D['question'].append(qa['Q'])\n",
    "            D['answer'].append(qa['A'])\n",
    "            \n",
    "    return pd.DataFrame(D)"
   ]
  },
  {
   "cell_type": "code",
   "execution_count": 5,
   "metadata": {},
   "outputs": [],
   "source": [
    "df_train = json2df(train)\n",
    "df_test = json2df(test)"
   ]
  },
  {
   "cell_type": "markdown",
   "metadata": {},
   "source": [
    "# 简单查看数据"
   ]
  },
  {
   "cell_type": "code",
   "execution_count": 6,
   "metadata": {},
   "outputs": [
    {
     "data": {
      "text/html": [
       "<div>\n",
       "<style scoped>\n",
       "    .dataframe tbody tr th:only-of-type {\n",
       "        vertical-align: middle;\n",
       "    }\n",
       "\n",
       "    .dataframe tbody tr th {\n",
       "        vertical-align: top;\n",
       "    }\n",
       "\n",
       "    .dataframe thead th {\n",
       "        text-align: right;\n",
       "    }\n",
       "</style>\n",
       "<table border=\"1\" class=\"dataframe\">\n",
       "  <thead>\n",
       "    <tr style=\"text-align: right;\">\n",
       "      <th></th>\n",
       "      <th>passage</th>\n",
       "      <th>question</th>\n",
       "      <th>answer</th>\n",
       "    </tr>\n",
       "  </thead>\n",
       "  <tbody>\n",
       "    <tr>\n",
       "      <th>0</th>\n",
       "      <td>\"胆石症的治疗应区别不同情况分别处理，无症状胆囊结石可不作治疗，但应定期观察并注意良好的饮食...</td>\n",
       "      <td>什么类型的胆囊结石可不作治疗？</td>\n",
       "      <td>无症状胆囊结</td>\n",
       "    </tr>\n",
       "    <tr>\n",
       "      <th>1</th>\n",
       "      <td>\"胆石症的治疗应区别不同情况分别处理，无症状胆囊结石可不作治疗，但应定期观察并注意良好的饮食...</td>\n",
       "      <td>胆石症的治疗应注意什么？</td>\n",
       "      <td>应区别不同情况分别处理</td>\n",
       "    </tr>\n",
       "    <tr>\n",
       "      <th>2</th>\n",
       "      <td>\"胆石症的治疗应区别不同情况分别处理，无症状胆囊结石可不作治疗，但应定期观察并注意良好的饮食...</td>\n",
       "      <td>胆管结石宜采用什么样的治疗方式？</td>\n",
       "      <td>以手术为主的综合治疗</td>\n",
       "    </tr>\n",
       "    <tr>\n",
       "      <th>3</th>\n",
       "      <td>反佐配伍的典范，始见于张仲景《伤寒杂病论》，其中记载“干呕、吐涎沫、头痛者吴茱萸汤主之”。患...</td>\n",
       "      <td>“干呕、吐涎沫、头痛者吴茱萸汤主之”这句话曾出现在哪本医学巨著中？</td>\n",
       "      <td>《伤寒杂病论》</td>\n",
       "    </tr>\n",
       "    <tr>\n",
       "      <th>4</th>\n",
       "      <td>反佐配伍的典范，始见于张仲景《伤寒杂病论》，其中记载“干呕、吐涎沫、头痛者吴茱萸汤主之”。患...</td>\n",
       "      <td>《伤寒杂病论》的作者是谁？</td>\n",
       "      <td>张仲景</td>\n",
       "    </tr>\n",
       "  </tbody>\n",
       "</table>\n",
       "</div>"
      ],
      "text/plain": [
       "                                             passage  \\\n",
       "0  \"胆石症的治疗应区别不同情况分别处理，无症状胆囊结石可不作治疗，但应定期观察并注意良好的饮食...   \n",
       "1  \"胆石症的治疗应区别不同情况分别处理，无症状胆囊结石可不作治疗，但应定期观察并注意良好的饮食...   \n",
       "2  \"胆石症的治疗应区别不同情况分别处理，无症状胆囊结石可不作治疗，但应定期观察并注意良好的饮食...   \n",
       "3  反佐配伍的典范，始见于张仲景《伤寒杂病论》，其中记载“干呕、吐涎沫、头痛者吴茱萸汤主之”。患...   \n",
       "4  反佐配伍的典范，始见于张仲景《伤寒杂病论》，其中记载“干呕、吐涎沫、头痛者吴茱萸汤主之”。患...   \n",
       "\n",
       "                            question       answer  \n",
       "0                    什么类型的胆囊结石可不作治疗？       无症状胆囊结  \n",
       "1                       胆石症的治疗应注意什么？  应区别不同情况分别处理  \n",
       "2                   胆管结石宜采用什么样的治疗方式？   以手术为主的综合治疗  \n",
       "3  “干呕、吐涎沫、头痛者吴茱萸汤主之”这句话曾出现在哪本医学巨著中？      《伤寒杂病论》  \n",
       "4                      《伤寒杂病论》的作者是谁？          张仲景  "
      ]
     },
     "execution_count": 6,
     "metadata": {},
     "output_type": "execute_result"
    }
   ],
   "source": [
    "df_train.head()"
   ]
  },
  {
   "cell_type": "code",
   "execution_count": 7,
   "metadata": {},
   "outputs": [
    {
     "data": {
      "text/html": [
       "<div>\n",
       "<style scoped>\n",
       "    .dataframe tbody tr th:only-of-type {\n",
       "        vertical-align: middle;\n",
       "    }\n",
       "\n",
       "    .dataframe tbody tr th {\n",
       "        vertical-align: top;\n",
       "    }\n",
       "\n",
       "    .dataframe thead th {\n",
       "        text-align: right;\n",
       "    }\n",
       "</style>\n",
       "<table border=\"1\" class=\"dataframe\">\n",
       "  <thead>\n",
       "    <tr style=\"text-align: right;\">\n",
       "      <th></th>\n",
       "      <th>passage</th>\n",
       "      <th>question</th>\n",
       "      <th>answer</th>\n",
       "    </tr>\n",
       "  </thead>\n",
       "  <tbody>\n",
       "    <tr>\n",
       "      <th>0</th>\n",
       "      <td>\"橄榄，又名青果、白榄，为橄榄科植物橄榄的果实，产广东、广西、福建等地。宋朝大文学家苏东坡称...</td>\n",
       "      <td></td>\n",
       "      <td>橄榄的果实中含有蛋白质、脂肪、碳水化合物以及钙.磷、铁等。</td>\n",
       "    </tr>\n",
       "    <tr>\n",
       "      <th>1</th>\n",
       "      <td>\"橄榄，又名青果、白榄，为橄榄科植物橄榄的果实，产广东、广西、福建等地。宋朝大文学家苏东坡称...</td>\n",
       "      <td></td>\n",
       "      <td>清肺，利咽，生津：解毒</td>\n",
       "    </tr>\n",
       "    <tr>\n",
       "      <th>2</th>\n",
       "      <td>\"橄榄，又名青果、白榄，为橄榄科植物橄榄的果实，产广东、广西、福建等地。宋朝大文学家苏东坡称...</td>\n",
       "      <td></td>\n",
       "      <td>青子</td>\n",
       "    </tr>\n",
       "    <tr>\n",
       "      <th>3</th>\n",
       "      <td>\"橄榄，又名青果、白榄，为橄榄科植物橄榄的果实，产广东、广西、福建等地。宋朝大文学家苏东坡称...</td>\n",
       "      <td></td>\n",
       "      <td>主治咽喉肿痛，烦渴，咳嗽咯血以及细菌性痢疾、癫痫等，还能解除河豚毒以及酒毒。</td>\n",
       "    </tr>\n",
       "    <tr>\n",
       "      <th>4</th>\n",
       "      <td>黄帝说：我想听听运气学说是怎样创始的。岐伯说：你提这个问题很高明的啊！我曾看到《太始天元册》...</td>\n",
       "      <td></td>\n",
       "      <td>赤色的天气，经过牛、女二宿及西北方的戊分；黄色的天气，经过心、尾二宿及东南方的已分；青色的天...</td>\n",
       "    </tr>\n",
       "  </tbody>\n",
       "</table>\n",
       "</div>"
      ],
      "text/plain": [
       "                                             passage question  \\\n",
       "0  \"橄榄，又名青果、白榄，为橄榄科植物橄榄的果实，产广东、广西、福建等地。宋朝大文学家苏东坡称...            \n",
       "1  \"橄榄，又名青果、白榄，为橄榄科植物橄榄的果实，产广东、广西、福建等地。宋朝大文学家苏东坡称...            \n",
       "2  \"橄榄，又名青果、白榄，为橄榄科植物橄榄的果实，产广东、广西、福建等地。宋朝大文学家苏东坡称...            \n",
       "3  \"橄榄，又名青果、白榄，为橄榄科植物橄榄的果实，产广东、广西、福建等地。宋朝大文学家苏东坡称...            \n",
       "4  黄帝说：我想听听运气学说是怎样创始的。岐伯说：你提这个问题很高明的啊！我曾看到《太始天元册》...            \n",
       "\n",
       "                                              answer  \n",
       "0                      橄榄的果实中含有蛋白质、脂肪、碳水化合物以及钙.磷、铁等。  \n",
       "1                                        清肺，利咽，生津：解毒  \n",
       "2                                                 青子  \n",
       "3             主治咽喉肿痛，烦渴，咳嗽咯血以及细菌性痢疾、癫痫等，还能解除河豚毒以及酒毒。  \n",
       "4  赤色的天气，经过牛、女二宿及西北方的戊分；黄色的天气，经过心、尾二宿及东南方的已分；青色的天...  "
      ]
     },
     "execution_count": 7,
     "metadata": {},
     "output_type": "execute_result"
    }
   ],
   "source": [
    "df_test.head()"
   ]
  },
  {
   "cell_type": "code",
   "execution_count": 8,
   "metadata": {},
   "outputs": [
    {
     "data": {
      "text/plain": [
       "18478"
      ]
     },
     "execution_count": 8,
     "metadata": {},
     "output_type": "execute_result"
    }
   ],
   "source": [
    "len(df_train)"
   ]
  },
  {
   "cell_type": "code",
   "execution_count": 9,
   "metadata": {},
   "outputs": [
    {
     "data": {
      "text/plain": [
       "4373"
      ]
     },
     "execution_count": 9,
     "metadata": {},
     "output_type": "execute_result"
    }
   ],
   "source": [
    "len(df_test)"
   ]
  },
  {
   "cell_type": "markdown",
   "metadata": {},
   "source": [
    "# 数据预处理"
   ]
  },
  {
   "cell_type": "code",
   "execution_count": 10,
   "metadata": {},
   "outputs": [],
   "source": [
    "# 剔除空白字符\n",
    "df_train = df_train.applymap(lambda x: re.sub(r'\\s', '', x))\n",
    "df_train = df_train.applymap(lambda x: re.sub(r'\\\\n', '', x))\n",
    "df_test = df_test.applymap(lambda x: re.sub(r'\\s', '', x))\n",
    "df_test = df_test.applymap(lambda x: re.sub(r'\\\\n', '', x))"
   ]
  },
  {
   "cell_type": "code",
   "execution_count": 11,
   "metadata": {},
   "outputs": [],
   "source": [
    "# 剔除带括号的英文\n",
    "func = lambda m: '' if len(m.group(0)) > 5 else m.group(0)\n",
    "df_train = df_train.applymap(lambda x: re.sub(r'\\([A-Za-z]+\\)', func, x))\n",
    "df_train = df_train.applymap(lambda x: re.sub(r'（[A-Za-z]+）', func, x))\n",
    "df_test = df_test.applymap(lambda x: re.sub(r'\\([A-Za-z]+\\)', func, x))\n",
    "df_test = df_test.applymap(lambda x: re.sub(r'（[A-Za-z]+）', func, x))"
   ]
  },
  {
   "cell_type": "markdown",
   "metadata": {},
   "source": [
    "# 文本长度分布"
   ]
  },
  {
   "cell_type": "markdown",
   "metadata": {},
   "source": [
    "## describe\n",
    "通过数据描述可以看到：\n",
    "* 训练集共18478条文本数据；\n",
    "    * 篇章文本平均358个字符，最短的句子长度为40，最长的句子长度为511，其中75%以下的数据长度在453以下；\n",
    "    * 问题文本平均14个字符，最短的句子长度为5，最长的句子长度为130，其中75%以下的数据长度在17以下；\n",
    "    * 答案文本平均47个字符，最短的句子长度为1，最长的句子长度为508，其中75%以下的数据长度在58以下。\n",
    "* 测试集共4373条文本数据；\n",
    "    * 篇章文本平均353个字符，最短的句子长度为46，最长的句子长度为511，其中75%以下的数据长度在449以下；\n",
    "    * 答案文本平均48个字符，最短的句子长度为1，最长的句子长度为508，其中75%以下的数据长度在59以下。"
   ]
  },
  {
   "cell_type": "code",
   "execution_count": 12,
   "metadata": {},
   "outputs": [
    {
     "data": {
      "text/plain": [
       "count    18478.000000\n",
       "mean       358.024678\n",
       "std        108.896379\n",
       "min         40.000000\n",
       "25%        283.000000\n",
       "50%        376.000000\n",
       "75%        453.000000\n",
       "max        511.000000\n",
       "Name: passage, dtype: float64"
      ]
     },
     "execution_count": 12,
     "metadata": {},
     "output_type": "execute_result"
    }
   ],
   "source": [
    "df_train.passage.map(lambda x: len(x.strip())).describe()"
   ]
  },
  {
   "cell_type": "code",
   "execution_count": 13,
   "metadata": {},
   "outputs": [
    {
     "data": {
      "text/plain": [
       "count    18478.000000\n",
       "mean        14.386947\n",
       "std          6.500708\n",
       "min          5.000000\n",
       "25%         10.000000\n",
       "50%         13.000000\n",
       "75%         17.000000\n",
       "max        130.000000\n",
       "Name: question, dtype: float64"
      ]
     },
     "execution_count": 13,
     "metadata": {},
     "output_type": "execute_result"
    }
   ],
   "source": [
    "df_train.question.map(lambda x: len(x.strip())).describe()"
   ]
  },
  {
   "cell_type": "code",
   "execution_count": 14,
   "metadata": {},
   "outputs": [
    {
     "data": {
      "text/plain": [
       "count    18478.000000\n",
       "mean        47.635675\n",
       "std         50.482854\n",
       "min          1.000000\n",
       "25%         19.000000\n",
       "50%         34.000000\n",
       "75%         58.000000\n",
       "max        508.000000\n",
       "Name: answer, dtype: float64"
      ]
     },
     "execution_count": 14,
     "metadata": {},
     "output_type": "execute_result"
    }
   ],
   "source": [
    "df_train.answer.map(lambda x: len(x.strip())).describe()"
   ]
  },
  {
   "cell_type": "code",
   "execution_count": 15,
   "metadata": {},
   "outputs": [
    {
     "data": {
      "text/plain": [
       "count    4373.000000\n",
       "mean      353.149325\n",
       "std       111.697666\n",
       "min        46.000000\n",
       "25%       273.000000\n",
       "50%       374.000000\n",
       "75%       449.000000\n",
       "max       511.000000\n",
       "Name: passage, dtype: float64"
      ]
     },
     "execution_count": 15,
     "metadata": {},
     "output_type": "execute_result"
    }
   ],
   "source": [
    "df_test.passage.map(lambda x: len(x.strip())).describe()"
   ]
  },
  {
   "cell_type": "code",
   "execution_count": 16,
   "metadata": {},
   "outputs": [
    {
     "data": {
      "text/plain": [
       "count    4373.000000\n",
       "mean       48.533501\n",
       "std        53.045020\n",
       "min         1.000000\n",
       "25%        19.000000\n",
       "50%        34.000000\n",
       "75%        59.000000\n",
       "max       508.000000\n",
       "Name: answer, dtype: float64"
      ]
     },
     "execution_count": 16,
     "metadata": {},
     "output_type": "execute_result"
    }
   ],
   "source": [
    "df_test.answer.map(lambda x: len(x.strip())).describe()"
   ]
  },
  {
   "cell_type": "markdown",
   "metadata": {},
   "source": [
    "## 直方图\n",
    "通过直方图可以看到：\n",
    "* 篇章文本长度在100以下的数据较少，长度区间400-500的数据占比较大。\n",
    "* 问题文本长度主要集中在5-20这个区间，长度40以上的数据较少。\n",
    "* 答案文本长度主要集中在1-100区间，长度200以上的数据较少。"
   ]
  },
  {
   "cell_type": "code",
   "execution_count": 19,
   "metadata": {},
   "outputs": [
    {
     "data": {
      "text/plain": [
       "<matplotlib.legend.Legend at 0x7f294f6e6990>"
      ]
     },
     "execution_count": 19,
     "metadata": {},
     "output_type": "execute_result"
    },
    {
     "data": {
      "image/png": "[encoded data removed]",
      "text/plain": [
       "<Figure size 1080x360 with 1 Axes>"
      ]
     },
     "metadata": {
      "needs_background": "light"
     },
     "output_type": "display_data"
    }
   ],
   "source": [
    "plt.figure(figsize=(15,5))\n",
    "ax = sns.distplot(df_train.passage.map(lambda x: len(x.strip())).values, bins=100)\n",
    "ax = sns.distplot(df_test.passage.map(lambda x: len(x.strip())).values, bins=100)\n",
    "plt.xlim([0, max(max(df_train.passage.map(lambda x: len(x.strip())).values), max(df_test.passage.map(lambda x: len(x.strip())).values))])\n",
    "plt.xlabel(\"length of sample\")\n",
    "plt.ylabel(\"prob of sample\")\n",
    "plt.legend(['train_len','test_len'])"
   ]
  },
  {
   "cell_type": "code",
   "execution_count": 22,
   "metadata": {},
   "outputs": [
    {
     "data": {
      "text/plain": [
       "<matplotlib.legend.Legend at 0x7f294cb37790>"
      ]
     },
     "execution_count": 22,
     "metadata": {},
     "output_type": "execute_result"
    },
    {
     "data": {
      "image/png": "[encoded data removed]",
      "text/plain": [
       "<Figure size 1080x360 with 1 Axes>"
      ]
     },
     "metadata": {
      "needs_background": "light"
     },
     "output_type": "display_data"
    }
   ],
   "source": [
    "plt.figure(figsize=(15,5))\n",
    "ax = sns.distplot(df_train.question.map(lambda x: len(x.strip())).values, bins=100)\n",
    "plt.xlim([0, max(df_train.question.map(lambda x: len(x.strip())).values)])\n",
    "plt.xlabel(\"length of sample\")\n",
    "plt.ylabel(\"prob of sample\")\n",
    "plt.legend(['train_len'])"
   ]
  },
  {
   "cell_type": "code",
   "execution_count": 23,
   "metadata": {},
   "outputs": [
    {
     "data": {
      "text/plain": [
       "<matplotlib.legend.Legend at 0x7f294caf2650>"
      ]
     },
     "execution_count": 23,
     "metadata": {},
     "output_type": "execute_result"
    },
    {
     "data": {
      "image/png": "[encoded data removed]",
      "text/plain": [
       "<Figure size 1080x360 with 1 Axes>"
      ]
     },
     "metadata": {
      "needs_background": "light"
     },
     "output_type": "display_data"
    }
   ],
   "source": [
    "plt.figure(figsize=(15,5))\n",
    "ax = sns.distplot(df_train.answer.map(lambda x: len(x.strip())).values, bins=100)\n",
    "ax = sns.distplot(df_test.answer.map(lambda x: len(x.strip())).values, bins=100)\n",
    "plt.xlim([0, max(max(df_train.answer.map(lambda x: len(x.strip())).values), max(df_test.answer.map(lambda x: len(x.strip())).values))])\n",
    "plt.xlabel(\"length of sample\")\n",
    "plt.ylabel(\"prob of sample\")\n",
    "plt.legend(['train_len','test_len'])"
   ]
  },
  {
   "cell_type": "markdown",
   "metadata": {},
   "source": [
    "## 同分布验证\n",
    "* 篇章的P值为0.03，比指定的显著水平（假设为5%）小，我们认为二者不是同分布。\n",
    "* 答案的P值为0.84，比指定的显著水平（假设为5%）小，我们认为二者同分布。"
   ]
  },
  {
   "cell_type": "code",
   "execution_count": 24,
   "metadata": {},
   "outputs": [
    {
     "data": {
      "text/plain": [
       "Ks_2sampResult(statistic=0.023524541901201457, pvalue=0.039927605323010484)"
      ]
     },
     "execution_count": 24,
     "metadata": {},
     "output_type": "execute_result"
    }
   ],
   "source": [
    "import scipy\n",
    "scipy.stats.ks_2samp(df_train.passage.map(lambda x: len(x.strip())).values, df_test.passage.map(lambda x: len(x.strip())).values)"
   ]
  },
  {
   "cell_type": "code",
   "execution_count": 25,
   "metadata": {},
   "outputs": [
    {
     "data": {
      "text/plain": [
       "Ks_2sampResult(statistic=0.01037905238055789, pvalue=0.8407291806931478)"
      ]
     },
     "execution_count": 25,
     "metadata": {},
     "output_type": "execute_result"
    }
   ],
   "source": [
    "scipy.stats.ks_2samp(df_train.answer.map(lambda x: len(x.strip())).values, df_test.answer.map(lambda x: len(x.strip())).values)"
   ]
  },
  {
   "cell_type": "markdown",
   "metadata": {},
   "source": [
    "# 分析总结\n",
    "* 训练数据量适中，不是很大数据量，但是也不算少。\n",
    "* 文本长度：篇章文本最大，其次是答案文本，最后是问题文本。\n",
    "* 如果只看答案文本，那它的长度分布应该是同分布。\n",
    "* 若要将篇章、问题和答案拼接进行训练，则需要对其进行文本截断；\n",
    "    * 问题是要预测的部分，并且长度不是太长，所以可以不进行截断；\n",
    "    * 答案是从篇章中截取的，可以适当截取短一点；\n",
    "    * 篇章在硬件资源允许的范围内，可以尽量截取长一点。"
   ]
  }
 ],
 "metadata": {
  "kernelspec": {
   "display_name": "Python 3",
   "language": "python",
   "name": "python3"
  },
  "language_info": {
   "codemirror_mode": {
    "name": "ipython",
    "version": 3
   },
   "file_extension": ".py",
   "mimetype": "text/x-python",
   "name": "python",
   "nbconvert_exporter": "python",
   "pygments_lexer": "ipython3",
   "version": "3.7.6"
  },
  "pycharm": {
   "stem_cell": {
    "cell_type": "raw",
    "source": [],
    "metadata": {
     "collapsed": false
    }
   }
  }
 },
 "nbformat": 4,
 "nbformat_minor": 2
}